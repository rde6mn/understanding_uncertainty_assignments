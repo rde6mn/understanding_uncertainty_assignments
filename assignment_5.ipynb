{
 "cells": [
  {
   "cell_type": "markdown",
   "id": "dd21efe9",
   "metadata": {},
   "source": [
    "# Assignment 5\n",
    "### Do all four questions."
   ]
  },
  {
   "cell_type": "markdown",
   "id": "1ee9b4e8",
   "metadata": {},
   "source": [
    "**1.** Let's review some basic matrix multiplication. When you have an $M \\times N$ matrix $A$ with $M$ rows and $N$ columns, \n",
    "$$\n",
    "A= \\left[ \\begin{array}{cccc} a_{11} & a_{12} & ... & a_{1N} \\\\\n",
    "a_{21} & a_{22} & ... & a_{2N} \\\\\n",
    "\\vdots & \\vdots & ... & \\vdots \\\\\n",
    "a_{M1} & a_{M2} & ... & a_{MN} \n",
    "\\end{array} \\right],\n",
    "$$\n",
    "and you right-multiply it by a vector\n",
    "$$\n",
    "x = \\left[ \\begin{array}{c} x_1 \\\\ x_2 \\\\ \\vdots \\\\ x_N \n",
    "\\end{array} \\right],\n",
    "$$\n",
    "you get\n",
    "$$\n",
    "Ax = \\left[ \\begin{array}{c} \\sum_{i=1}^N a_{1i} x_i \\\\ \\sum_{i=1}^N a_{2i} x_i \\\\ \\vdots \\\\ \\sum_{i=1}^N a_{Mi} x_i \n",
    "\\end{array} \\right].\n",
    "$$\n",
    "This is just \"matrix row times column vector\" element-by-element, stacking the results into a new vector.\n",
    "\n",
    "For this to make sense, $N$ must be the same for the matrix and the vector, but $M$ can be different from $N$. \n",
    "\n",
    "Let's play with some NumPy to see this. First we'll define a matrix $A$:"
   ]
  },
  {
   "cell_type": "code",
   "execution_count": 11,
   "id": "33df3579",
   "metadata": {},
   "outputs": [
    {
     "data": {
      "text/plain": [
       "array([[1, 2, 3],\n",
       "       [4, 5, 6],\n",
       "       [7, 8, 9]])"
      ]
     },
     "execution_count": 11,
     "metadata": {},
     "output_type": "execute_result"
    }
   ],
   "source": [
    "import numpy as np\n",
    "\n",
    "A = np.array([ [1,2,3],\n",
    "              [4,5,6],\n",
    "              [7,8,9]])\n",
    "A"
   ]
  },
  {
   "cell_type": "markdown",
   "id": "94b1b3ac",
   "metadata": {},
   "source": [
    "a. Multiply $A$ times each of the following vectors using the @ operator. Explain which part of the $A$ matrix gets selected and explain why, using the definition of matrix multiplication. "
   ]
  },
  {
   "cell_type": "code",
   "execution_count": 12,
   "id": "5b6148d2",
   "metadata": {},
   "outputs": [],
   "source": [
    "e_1 = np.array([1,0,0])\n",
    "e_2 = np.array([0,1,0])\n",
    "e_3 = np.array([0,0,1])"
   ]
  },
  {
   "cell_type": "code",
   "execution_count": 13,
   "id": "c25e0e13",
   "metadata": {},
   "outputs": [
    {
     "data": {
      "text/plain": [
       "array([1, 4, 7])"
      ]
     },
     "execution_count": 13,
     "metadata": {},
     "output_type": "execute_result"
    }
   ],
   "source": [
    "A@e_1"
   ]
  },
  {
   "cell_type": "markdown",
   "id": "8db01bd8",
   "metadata": {},
   "source": [
    "For e_1, the values in the first column get selected since the vector only has a non-zero value in the first value. The others turn to 0, and when adding all the values in the row together, only the value in the first column remains for all rows. "
   ]
  },
  {
   "cell_type": "code",
   "execution_count": 14,
   "id": "d1777343",
   "metadata": {},
   "outputs": [
    {
     "data": {
      "text/plain": [
       "array([2, 5, 8])"
      ]
     },
     "execution_count": 14,
     "metadata": {},
     "output_type": "execute_result"
    }
   ],
   "source": [
    "A@e_2"
   ]
  },
  {
   "cell_type": "markdown",
   "id": "e6dc9d69",
   "metadata": {},
   "source": [
    "For e_2, the values in the second column get selected since the vector only has a non-zero value in the second value. The others turn to 0, and when adding all the values in the row together, only the value in the second column remains for all rows. "
   ]
  },
  {
   "cell_type": "code",
   "execution_count": 15,
   "id": "863fc893",
   "metadata": {},
   "outputs": [
    {
     "data": {
      "text/plain": [
       "array([3, 6, 9])"
      ]
     },
     "execution_count": 15,
     "metadata": {},
     "output_type": "execute_result"
    }
   ],
   "source": [
    "A@e_3"
   ]
  },
  {
   "cell_type": "markdown",
   "id": "4b2df4b7",
   "metadata": {},
   "source": [
    "For e_3, the values in the third column get selected since the vector only has a non-zero value in the third value. The others turn to 0, and when adding all the values in the row together, only the value in the third column remains for all rows. "
   ]
  },
  {
   "cell_type": "markdown",
   "id": "72a4704e",
   "metadata": {},
   "source": [
    "b. Now multiply $A$ times $u = (1,1,1)$. Explain the logic of the result with the definition of matrix multiplication."
   ]
  },
  {
   "cell_type": "code",
   "execution_count": 16,
   "id": "5bf73f9b",
   "metadata": {},
   "outputs": [],
   "source": [
    "u = np.ones(3)"
   ]
  },
  {
   "cell_type": "code",
   "execution_count": 17,
   "id": "e3d11db2",
   "metadata": {},
   "outputs": [
    {
     "data": {
      "text/plain": [
       "array([ 6., 15., 24.])"
      ]
     },
     "execution_count": 17,
     "metadata": {},
     "output_type": "execute_result"
    }
   ],
   "source": [
    "A@u"
   ]
  },
  {
   "cell_type": "markdown",
   "id": "53e6c559",
   "metadata": {},
   "source": [
    "Now, each value in each row is multiplied by 1, since each value in the row corresponds to a 1 in the u vector. WHen each of the rows are added together, it results  in the sum of each row corrseponding to the value in the final vector"
   ]
  },
  {
   "cell_type": "markdown",
   "id": "dde75eab",
   "metadata": {},
   "source": [
    "c. Whenever a matrix has 1's on the diagonal and zeros everywhere else, we call it an **identity matrix**. What happens when you multiple $A$ times $x$ below? What happens when you multiple an identity matrix times any vector? Explain your result with the definition of matrix multiplication."
   ]
  },
  {
   "cell_type": "code",
   "execution_count": 18,
   "id": "b0d349c4",
   "metadata": {},
   "outputs": [],
   "source": [
    "A = np.array([ [1,0,0],\n",
    "              [0,1,0],\n",
    "              [0,0,1]])\n",
    "x = np.array([-2,4,11])\n"
   ]
  },
  {
   "cell_type": "code",
   "execution_count": 19,
   "id": "cc45959e",
   "metadata": {},
   "outputs": [
    {
     "data": {
      "text/plain": [
       "array([-2,  4, 11])"
      ]
     },
     "execution_count": 19,
     "metadata": {},
     "output_type": "execute_result"
    }
   ],
   "source": [
    "A@x"
   ]
  },
  {
   "cell_type": "markdown",
   "id": "d4d884ed",
   "metadata": {},
   "source": [
    "A times x results in x. THe same would happen for any vactor multiplied by an identiy matrix. Each row only has a nonzero value in the vector value corresponding to the row number. So when the values in the rows are added together, the only value remaining is the original values from the x vector. "
   ]
  },
  {
   "cell_type": "markdown",
   "id": "57141925",
   "metadata": {},
   "source": [
    "d. What if every row and column sum to 1, but the 1's are no longer on the diagonal? Multiple $A$ times $X$ below and explain the result. Create another matrix whose rows and columns sum to 1, but is not an identity matrix, and show how it permutes the values of $x$. "
   ]
  },
  {
   "cell_type": "code",
   "execution_count": 20,
   "id": "83a9ed11",
   "metadata": {},
   "outputs": [],
   "source": [
    "A = np.array([ [0,0,1],\n",
    "              [1,0,0],\n",
    "              [0,1,0]])\n",
    "x = np.array([-2,4,11])\n"
   ]
  },
  {
   "cell_type": "code",
   "execution_count": 21,
   "id": "81af9eb3",
   "metadata": {},
   "outputs": [
    {
     "data": {
      "text/plain": [
       "array([11, -2,  4])"
      ]
     },
     "execution_count": 21,
     "metadata": {},
     "output_type": "execute_result"
    }
   ],
   "source": [
    "A@x"
   ]
  },
  {
   "cell_type": "markdown",
   "id": "b7246fe9",
   "metadata": {},
   "source": [
    "The order of the row numbers and the value in the vector that it corresponds to is now mixed up, so the final vector changes the position of the values in the vector x. "
   ]
  },
  {
   "cell_type": "code",
   "execution_count": 22,
   "id": "58957c6e",
   "metadata": {},
   "outputs": [],
   "source": [
    "A = np.array([ [0,1,0],\n",
    "              [1,0,0],\n",
    "              [0,0,1]])\n",
    "x = np.array([-2,4,11])\n"
   ]
  },
  {
   "cell_type": "code",
   "execution_count": 23,
   "id": "187bbd65",
   "metadata": {},
   "outputs": [
    {
     "data": {
      "text/plain": [
       "array([ 4, -2, 11])"
      ]
     },
     "execution_count": 23,
     "metadata": {},
     "output_type": "execute_result"
    }
   ],
   "source": [
    "A@x"
   ]
  },
  {
   "cell_type": "markdown",
   "id": "611c26c3",
   "metadata": {},
   "source": [
    "e. The next matrix $A$ could be a Markov transition matrix: Its columns sum to 1, and each entry $a_{ij}$ can be interpreted as the proportion of observations who moved from state $j$ to state $i$. Multiply $A$ by each of the vectors $e_1$, $e_2$, and $e_3$, and explain your results."
   ]
  },
  {
   "cell_type": "code",
   "execution_count": 24,
   "id": "aff4fb97",
   "metadata": {},
   "outputs": [
    {
     "name": "stdout",
     "output_type": "stream",
     "text": [
      "[[0.50052958 0.24049286 0.18358131]\n",
      " [0.02574731 0.39251588 0.37907577]\n",
      " [0.47372311 0.36699127 0.43734292]]\n"
     ]
    }
   ],
   "source": [
    "rng = np.random.default_rng(100)\n",
    "A = rng.random((3,3)) # Generate a random 3X3 matrix\n",
    "sums = np.sum(A,axis=0) # Column sums\n",
    "A = A/sums # Normalize the columns so they sum to 1\n",
    "print(A)"
   ]
  },
  {
   "cell_type": "code",
   "execution_count": 25,
   "id": "af57ece7",
   "metadata": {},
   "outputs": [
    {
     "data": {
      "text/plain": [
       "array([0.50052958, 0.02574731, 0.47372311])"
      ]
     },
     "execution_count": 25,
     "metadata": {},
     "output_type": "execute_result"
    }
   ],
   "source": [
    "A@e_1"
   ]
  },
  {
   "cell_type": "markdown",
   "id": "85df32ec",
   "metadata": {},
   "source": [
    "All rows in the first column are kept in the resulting vecotr"
   ]
  },
  {
   "cell_type": "code",
   "execution_count": 26,
   "id": "145618c5",
   "metadata": {},
   "outputs": [
    {
     "data": {
      "text/plain": [
       "array([0.24049286, 0.39251588, 0.36699127])"
      ]
     },
     "execution_count": 26,
     "metadata": {},
     "output_type": "execute_result"
    }
   ],
   "source": [
    "A@e_2"
   ]
  },
  {
   "cell_type": "markdown",
   "id": "532c9b64",
   "metadata": {},
   "source": [
    "All rows in the second column are kept in the resulting vecotr"
   ]
  },
  {
   "cell_type": "code",
   "execution_count": 27,
   "id": "732cdefa",
   "metadata": {},
   "outputs": [
    {
     "data": {
      "text/plain": [
       "array([0.18358131, 0.37907577, 0.43734292])"
      ]
     },
     "execution_count": 27,
     "metadata": {},
     "output_type": "execute_result"
    }
   ],
   "source": [
    "A@e_3"
   ]
  },
  {
   "cell_type": "markdown",
   "id": "ea954ed2",
   "metadata": {},
   "source": [
    "All rows in the third column are kept in the resulting vecotr"
   ]
  },
  {
   "cell_type": "markdown",
   "id": "0647bfa7",
   "metadata": {},
   "source": [
    "f. For each of the vectors $e_1, e_2, e_3$, multiple $A$ times that vector 5 times. What answer do you get for each starting vector? Describe the behavior you observe."
   ]
  },
  {
   "cell_type": "code",
   "execution_count": 28,
   "id": "6e432957",
   "metadata": {},
   "outputs": [
    {
     "name": "stdout",
     "output_type": "stream",
     "text": [
      "[0.50052958 0.02574731 0.47372311]\n",
      "[0.34368862 0.20257047 0.45374091]\n",
      "[0.30404142 0.26036337 0.43559521]\n",
      "[0.29476439 0.27514859 0.43008701]\n",
      "[0.29266551 0.27862515 0.42870935]\n"
     ]
    }
   ],
   "source": [
    "Ae1 = A@e_1\n",
    "Ae2 = A@Ae1\n",
    "Ae3 = A@Ae2\n",
    "Ae4 = A@Ae3\n",
    "Ae5 = A@Ae4\n",
    "print(Ae1)\n",
    "print(Ae2)\n",
    "print(Ae3)\n",
    "print(Ae4)\n",
    "print(Ae5)"
   ]
  },
  {
   "cell_type": "code",
   "execution_count": 29,
   "id": "c3c65637",
   "metadata": {},
   "outputs": [
    {
     "name": "stdout",
     "output_type": "stream",
     "text": [
      "[0.24049286 0.39251588 0.36699127]\n",
      "[0.28214379 0.29937825 0.41847795]\n",
      "[0.29004438 0.28341002 0.42654561]\n",
      "[0.29163968 0.2804039  0.42795643]\n",
      "[0.29197422 0.27979983 0.42822595]\n"
     ]
    }
   ],
   "source": [
    "Ae1 = A@e_2\n",
    "Ae2 = A@Ae1\n",
    "Ae3 = A@Ae2\n",
    "Ae4 = A@Ae3\n",
    "Ae5 = A@Ae4\n",
    "print(Ae1)\n",
    "print(Ae2)\n",
    "print(Ae3)\n",
    "print(Ae4)\n",
    "print(Ae5)"
   ]
  },
  {
   "cell_type": "code",
   "execution_count": 30,
   "id": "5eecb990",
   "metadata": {},
   "outputs": [
    {
     "name": "stdout",
     "output_type": "stream",
     "text": [
      "[0.18358131 0.37907577 0.43734292]\n",
      "[0.26334088 0.31930609 0.41735304]\n",
      "[0.28521895 0.29032145 0.4244596 ]\n",
      "[0.29050361 0.28220175 0.42729464]\n",
      "[0.29171646 0.2802254  0.42805814]\n"
     ]
    }
   ],
   "source": [
    "Ae1 = A@e_3\n",
    "Ae2 = A@Ae1\n",
    "Ae3 = A@Ae2\n",
    "Ae4 = A@Ae3\n",
    "Ae5 = A@Ae4\n",
    "print(Ae1)\n",
    "print(Ae2)\n",
    "print(Ae3)\n",
    "print(Ae4)\n",
    "print(Ae5)"
   ]
  },
  {
   "cell_type": "markdown",
   "id": "f9315193",
   "metadata": {},
   "source": [
    "For each starting vector, it appears as if the values are converging to a value."
   ]
  },
  {
   "cell_type": "markdown",
   "id": "fa2c9a93",
   "metadata": {},
   "source": [
    "*2.* Let's consider a simple Markov transition matrix over two states:\n",
    "$$\n",
    "T = \\left[ \\begin{array}{cc} p_{1\\leftarrow 1} &  p_{1\\leftarrow 2} \\\\\n",
    "p_{2 \\leftarrow 1} & p_{2 \\leftarrow 2} \\end{array}\\right] \n",
    "$$\n",
    "The arrows help visualize the transition a bit: This is the same index notation as usual, $p_{ij}$, but writing it $p_{i \\leftarrow j}$ emphasizes that it's the proportion of times that state $j$ transitions to state $i$. Below, $T$ is given by\n",
    "$$\n",
    "T = \\left[ \\begin{array}{cc} .25 & .5 \\\\\n",
    ".75 & .5 \\end{array}\\right].\n",
    "$$\n",
    "\n",
    "- Start in state 1, at the initial condition $[1,0]$. Multiply that vector by $T$. Write out the result in terms of the formula and compute the result in a code chunk below. What is this object you're looking at, in terms of proportions and transitions?\n",
    "- Multiple by $T$ again. What do you get? This isn't a column of $T$. Explain in words what it is. (Hint: A forecast of what in what period?)\n",
    "- Keep multiplying the current vector of outcomes by $T$. When does it start to settle down without changing further?\n",
    "- Do the above analysis again, starting from the initial condition $[0,1]$. Do you get a different result?\n",
    "- The take-away is that, in the long run, these chains settle down into the long-run proportions, and the sensitivity on initial conditions vanishes. \n"
   ]
  },
  {
   "cell_type": "code",
   "execution_count": 2,
   "id": "98035735",
   "metadata": {},
   "outputs": [],
   "source": [
    "import pandas as pd\n",
    "import numpy as np"
   ]
  },
  {
   "cell_type": "code",
   "execution_count": 3,
   "id": "4b6a775f",
   "metadata": {},
   "outputs": [],
   "source": [
    "T = np.array([[ 1/4, 1/2],\n",
    "                 [ 3/4, 1/2 ]])"
   ]
  },
  {
   "cell_type": "code",
   "execution_count": 4,
   "id": "0c972488",
   "metadata": {},
   "outputs": [
    {
     "data": {
      "text/plain": [
       "array([[0.25, 0.5 ],\n",
       "       [0.75, 0.5 ]])"
      ]
     },
     "execution_count": 4,
     "metadata": {},
     "output_type": "execute_result"
    }
   ],
   "source": [
    "T"
   ]
  },
  {
   "cell_type": "code",
   "execution_count": 6,
   "id": "9f00cda4",
   "metadata": {},
   "outputs": [
    {
     "name": "stdout",
     "output_type": "stream",
     "text": [
      "[1 0]\n"
     ]
    }
   ],
   "source": [
    "init_condition = np.array([1,0])\n",
    "print(init_condition)"
   ]
  },
  {
   "cell_type": "code",
   "execution_count": 7,
   "id": "9b5264cc",
   "metadata": {},
   "outputs": [
    {
     "name": "stdout",
     "output_type": "stream",
     "text": [
      "[0.25 0.75]\n"
     ]
    }
   ],
   "source": [
    "p_1 = T @ init_condition\n",
    "print(p_1)"
   ]
  },
  {
   "cell_type": "markdown",
   "id": "efef13da",
   "metadata": {},
   "source": [
    "p_1 = [(0.25\\*1+0.5\\*0), (0.75\\*1+0.5\\*0)]"
   ]
  },
  {
   "cell_type": "code",
   "execution_count": 8,
   "id": "84afb027",
   "metadata": {},
   "outputs": [
    {
     "name": "stdout",
     "output_type": "stream",
     "text": [
      "[0.4375 0.5625]\n"
     ]
    }
   ],
   "source": [
    "p_2 = T @ p_1\n",
    "print(p_2)"
   ]
  },
  {
   "cell_type": "markdown",
   "id": "5170c355",
   "metadata": {},
   "source": [
    "each value in p_2 corresponds to a row and the value is 0.25 of the value in the first column + 0.75 the value in the second column"
   ]
  },
  {
   "cell_type": "code",
   "execution_count": 9,
   "id": "fe172113",
   "metadata": {},
   "outputs": [
    {
     "name": "stdout",
     "output_type": "stream",
     "text": [
      "[0.390625 0.609375]\n"
     ]
    }
   ],
   "source": [
    "p_3 = T @ p_2\n",
    "print(p_3)"
   ]
  },
  {
   "cell_type": "code",
   "execution_count": 33,
   "id": "2c1819e0",
   "metadata": {},
   "outputs": [
    {
     "name": "stdout",
     "output_type": "stream",
     "text": [
      "[0.40234375 0.59765625]\n",
      "[0.39941406 0.60058594]\n",
      "[0.40014648 0.59985352]\n",
      "[0.39996338 0.60003662]\n",
      "[0.40000916 0.59999084]\n",
      "[0.39999771 0.60000229]\n",
      "[0.40000057 0.59999943]\n",
      "[0.39999986 0.60000014]\n",
      "[0.40000004 0.59999996]\n",
      "[0.39999999 0.60000001]\n"
     ]
    }
   ],
   "source": [
    "p_4 = T @ p_3\n",
    "print(p_4)\n",
    "p_5 = T @ p_4\n",
    "print(p_5)\n",
    "p_6 = T @ p_5\n",
    "print(p_6)\n",
    "p_7 = T @ p_6\n",
    "print(p_7)\n",
    "p_8 = T @ p_7\n",
    "print(p_8)\n",
    "p_9 = T @ p_8\n",
    "print(p_9)\n",
    "p_10 = T @ p_9\n",
    "print(p_10)\n",
    "p_11 = T @ p_10\n",
    "print(p_11)\n",
    "p_12 = T @ p_11\n",
    "print(p_12)\n",
    "p_13 = T @ p_12\n",
    "print(p_13)"
   ]
  },
  {
   "cell_type": "markdown",
   "id": "de9f9800",
   "metadata": {},
   "source": [
    "For initial condition [1,0] it appears to settle down at [0.4, 0.6]"
   ]
  },
  {
   "cell_type": "code",
   "execution_count": 34,
   "id": "dc928011",
   "metadata": {},
   "outputs": [
    {
     "name": "stdout",
     "output_type": "stream",
     "text": [
      "[0 1]\n",
      "[0.5 0.5]\n",
      "[0.375 0.625]\n",
      "[0.40625 0.59375]\n",
      "[0.3984375 0.6015625]\n",
      "[0.40039062 0.59960938]\n",
      "[0.39990234 0.60009766]\n",
      "[0.40002441 0.59997559]\n",
      "[0.3999939 0.6000061]\n",
      "[0.40000153 0.59999847]\n",
      "[0.39999962 0.60000038]\n",
      "[0.4000001 0.5999999]\n",
      "[0.39999998 0.60000002]\n",
      "[0.40000001 0.59999999]\n"
     ]
    }
   ],
   "source": [
    "init_condition = np.array([0,1])\n",
    "print(init_condition)\n",
    "p_1 = T @ init_condition\n",
    "print(p_1)\n",
    "p_2 = T @ p_1\n",
    "print(p_2)\n",
    "p_3 = T @ p_2\n",
    "print(p_3)\n",
    "p_4 = T @ p_3\n",
    "print(p_4)  \n",
    "p_5 = T @ p_4\n",
    "print(p_5)\n",
    "p_6 = T @ p_5\n",
    "print(p_6)\n",
    "p_7 = T @ p_6\n",
    "print(p_7)\n",
    "p_8 = T @ p_7\n",
    "print(p_8)\n",
    "p_9 = T @ p_8\n",
    "print(p_9)\n",
    "p_10 = T @ p_9\n",
    "print(p_10)\n",
    "p_11 = T @ p_10\n",
    "print(p_11)\n",
    "p_12 = T @ p_11\n",
    "print(p_12)\n",
    "p_13 = T @ p_12\n",
    "print(p_13)"
   ]
  },
  {
   "cell_type": "markdown",
   "id": "5d3ea27c",
   "metadata": {},
   "source": [
    "For initial condition [0,1] it also appears to settle down at [0.4, 0.6]"
   ]
  },
  {
   "cell_type": "markdown",
   "id": "921592e9",
   "metadata": {},
   "source": [
    "3. Weather data\n",
    "\n",
    "- Load the `cville_weather.csv` data. This includes data from Jan 4, 2024 to Feb 2, 2025. Are there any missing data issues?\n",
    "- Based on the precipitation variable, `PRCP`, make a new variable called `rain` that takes the value 1 if `PRCP`>0 and 0 otherwise.\n",
    "- Build a two-state Markov chain over the states 0 and 1 for the `rain` variable. \n",
    "- For your chain from c, how likely is it to rain if it was rainy yesterday? How likely is it to rain if it was clear yesterday?\n",
    "- Starting from a clear day, forecast the distribution. How quickly does it converge to a fixed result? What if you start from a rainy day?\n",
    "- Conditional on being rainy, plot a KDE of the `PRCP` variable.\n",
    "- Describe one way of making your model better for forecasting and simulation the weather.\n",
    "\n",
    "Congratulations, you now are a non-parametric meteorologist!"
   ]
  },
  {
   "cell_type": "code",
   "execution_count": 35,
   "id": "56e11c11",
   "metadata": {},
   "outputs": [],
   "source": [
    "weather = pd.read_csv('cville_weather.csv')"
   ]
  },
  {
   "cell_type": "code",
   "execution_count": 36,
   "id": "e1232eef",
   "metadata": {},
   "outputs": [
    {
     "data": {
      "text/plain": [
       "STATION              0\n",
       "NAME                 0\n",
       "DATE                 0\n",
       "DAPR               399\n",
       "DAPR_ATTRIBUTES    399\n",
       "MDPR               399\n",
       "MDPR_ATTRIBUTES    399\n",
       "PRCP                12\n",
       "PRCP_ATTRIBUTES     12\n",
       "SNOW               188\n",
       "SNOW_ATTRIBUTES    188\n",
       "SNWD               410\n",
       "SNWD_ATTRIBUTES    410\n",
       "dtype: int64"
      ]
     },
     "execution_count": 36,
     "metadata": {},
     "output_type": "execute_result"
    }
   ],
   "source": [
    "weather.isna().sum()"
   ]
  },
  {
   "cell_type": "markdown",
   "id": "301efcea",
   "metadata": {},
   "source": [
    "There appears to be quite a few missing values. Some columns \"missingness\" are expected. For example countss of a column and its attribute (like DAPR and DAPR_attributes) across all column pairs have the same number of missing values. What 's interesting is that both DAPR and MDPR pairs have the same number of missing values. "
   ]
  },
  {
   "cell_type": "code",
   "execution_count": 40,
   "id": "f9ad9d2b",
   "metadata": {},
   "outputs": [],
   "source": [
    "weather['rain'] = (weather['PRCP'] > 0).astype(int)"
   ]
  },
  {
   "cell_type": "code",
   "execution_count": 38,
   "id": "2f8ce01e",
   "metadata": {},
   "outputs": [],
   "source": [
    "states = [0,1]\n",
    "seq = weather['rain']"
   ]
  },
  {
   "cell_type": "code",
   "execution_count": 39,
   "id": "dd21e808",
   "metadata": {},
   "outputs": [
    {
     "name": "stdout",
     "output_type": "stream",
     "text": [
      "\n",
      "Transition Counts:\n",
      " [[169.  63.]\n",
      " [ 62. 116.]]\n",
      "\n",
      "State Counts: \n",
      " [[232.]\n",
      " [178.]]\n",
      "\n",
      "State proportions: \n",
      " [[0.56585366]\n",
      " [0.43414634]]\n",
      "\n",
      "Transition Proportions:\n"
     ]
    },
    {
     "data": {
      "text/html": [
       "<div>\n",
       "<style scoped>\n",
       "    .dataframe tbody tr th:only-of-type {\n",
       "        vertical-align: middle;\n",
       "    }\n",
       "\n",
       "    .dataframe tbody tr th {\n",
       "        vertical-align: top;\n",
       "    }\n",
       "\n",
       "    .dataframe thead th {\n",
       "        text-align: right;\n",
       "    }\n",
       "</style>\n",
       "<table border=\"1\" class=\"dataframe\">\n",
       "  <thead>\n",
       "    <tr style=\"text-align: right;\">\n",
       "      <th></th>\n",
       "      <th>0</th>\n",
       "      <th>1</th>\n",
       "    </tr>\n",
       "  </thead>\n",
       "  <tbody>\n",
       "    <tr>\n",
       "      <th>0</th>\n",
       "      <td>0.73</td>\n",
       "      <td>0.27</td>\n",
       "    </tr>\n",
       "    <tr>\n",
       "      <th>1</th>\n",
       "      <td>0.35</td>\n",
       "      <td>0.65</td>\n",
       "    </tr>\n",
       "  </tbody>\n",
       "</table>\n",
       "</div>"
      ],
      "text/plain": [
       "      0     1\n",
       "0  0.73  0.27\n",
       "1  0.35  0.65"
      ]
     },
     "execution_count": 39,
     "metadata": {},
     "output_type": "execute_result"
    }
   ],
   "source": [
    "## Create a S X S transition matrix, and find the transition counts:\n",
    "S = len(states)\n",
    "T = len(seq)\n",
    "tr_counts = np.zeros( (S, S) )\n",
    "\n",
    "for t in range(1,T): # For each transition\n",
    "    # Current and next tokens:\n",
    "    x_tm1 = seq[t-1] # previous state\n",
    "    x_t = seq[t] # current state\n",
    "    # Determine transition indices:\n",
    "    index_from = states.index(x_tm1)\n",
    "    index_to = states.index(x_t)\n",
    "    # Update transition counts:\n",
    "    tr_counts[index_to, index_from] += 1\n",
    "\n",
    "print(f'\\nTransition Counts:\\n {tr_counts}')\n",
    "\n",
    "# Sum the transition counts by row:\n",
    "sums = tr_counts.sum(axis=1, keepdims=True)\n",
    "print(f'\\nState Counts: \\n {sums}')\n",
    "\n",
    "# Sum the transition counts by row:\n",
    "print(f'\\nState proportions: \\n {sums/np.sum(sums)}')\n",
    "\n",
    "# Normalize the transition count matrix to get proportions:\n",
    "tr_pr = np.divide(tr_counts, sums, \n",
    "                            out=np.zeros_like(tr_counts), \n",
    "                            where= sums!=0)\n",
    "\n",
    "tr_pr_1 = tr_pr # Save transition matrix for later\n",
    "\n",
    "print(f'\\nTransition Proportions:')\n",
    "pd.DataFrame(np.round(tr_pr,2), index=states, columns=states)"
   ]
  },
  {
   "cell_type": "markdown",
   "id": "8cd7e7a7",
   "metadata": {},
   "source": [
    "If it was rainy yesterday, there's a 65% chance it'll be rainy today and a 35% chance it will be clear. "
   ]
  },
  {
   "cell_type": "code",
   "execution_count": 46,
   "id": "931fe8c2",
   "metadata": {},
   "outputs": [
    {
     "name": "stdout",
     "output_type": "stream",
     "text": [
      "Transition matrix:\n",
      " [[0.72844828 0.27155172]\n",
      " [0.34831461 0.65168539]] \n",
      "\n",
      "Initial Density:\n",
      " [[1.]\n",
      " [0.]] \n",
      "\n",
      "[0.72844828 0.34831461]\n",
      "[0.62522232 0.48072072]\n",
      "[0.58598266 0.53105274]\n",
      "[0.57106635 0.55018563]\n",
      "[0.56539615 0.55745869]\n",
      "[0.56324072 0.56022342]\n",
      "[0.56242137 0.56127439]\n",
      "[0.56210991 0.5616739 ]\n",
      "[0.56199151 0.56182577]\n",
      "[0.5619465 0.5618835]\n",
      "[0.56192939 0.56190544]\n",
      "[0.56192289 0.56191378]\n",
      "[0.56192042 0.56191696]\n",
      "[0.56191948 0.56191816]\n",
      "[0.56191912 0.56191862]\n",
      "[0.56191898 0.56191879]\n",
      "[0.56191893 0.56191886]\n",
      "[0.56191891 0.56191888]\n",
      "[0.5619189  0.56191889]\n",
      "[0.5619189 0.5619189]\n",
      "[0.5619189 0.5619189]\n"
     ]
    }
   ],
   "source": [
    "np.random.seed(100)\n",
    "\n",
    "initial_state = 0 # clear\n",
    "state_index = states.index(initial_state) # Get the index of the initial state\n",
    "\n",
    "##Initial density:\n",
    "density = np.zeros(len(states))\n",
    "density[state_index] = 1\n",
    "\n",
    "print(f'Transition matrix:\\n {tr_pr} \\n')\n",
    "print(f'Initial Density:\\n {density.reshape(-1,1)} \\n')\n",
    "\n",
    "for k in range(21):\n",
    "    density = tr_pr_1 @ density\n",
    "    print(density)"
   ]
  },
  {
   "cell_type": "markdown",
   "id": "270c8acd",
   "metadata": {},
   "source": [
    "It coverges to a fixed result at day 20"
   ]
  },
  {
   "cell_type": "code",
   "execution_count": 47,
   "id": "b9bb08ca",
   "metadata": {},
   "outputs": [
    {
     "name": "stdout",
     "output_type": "stream",
     "text": [
      "Transition matrix:\n",
      " [[0.72844828 0.27155172]\n",
      " [0.34831461 0.65168539]] \n",
      "\n",
      "Initial Density:\n",
      " [[0.]\n",
      " [1.]] \n",
      "\n",
      "[0.27155172 0.65168539]\n",
      "[0.37477768 0.51927928]\n",
      "[0.41401734 0.46894726]\n",
      "[0.42893365 0.44981437]\n",
      "[0.43460385 0.44254131]\n",
      "[0.43675928 0.43977658]\n",
      "[0.43757863 0.43872561]\n",
      "[0.43789009 0.4383261 ]\n",
      "[0.43800849 0.43817423]\n",
      "[0.4380535 0.4381165]\n",
      "[0.43807061 0.43809456]\n",
      "[0.43807711 0.43808622]\n",
      "[0.43807958 0.43808304]\n",
      "[0.43808052 0.43808184]\n",
      "[0.43808088 0.43808138]\n",
      "[0.43808102 0.43808121]\n",
      "[0.43808107 0.43808114]\n",
      "[0.43808109 0.43808112]\n",
      "[0.4380811  0.43808111]\n",
      "[0.4380811 0.4380811]\n",
      "[0.4380811 0.4380811]\n"
     ]
    }
   ],
   "source": [
    "np.random.seed(100)\n",
    "\n",
    "initial_state = 1 # rain\n",
    "state_index = states.index(initial_state) # Get the index of the initial state\n",
    "\n",
    "##Initial density:\n",
    "density = np.zeros(len(states))\n",
    "density[state_index] = 1\n",
    "\n",
    "print(f'Transition matrix:\\n {tr_pr} \\n')\n",
    "print(f'Initial Density:\\n {density.reshape(-1,1)} \\n')\n",
    "\n",
    "for k in range(21):\n",
    "    density = tr_pr_1 @ density\n",
    "    print(density)"
   ]
  },
  {
   "cell_type": "markdown",
   "id": "833efa05",
   "metadata": {},
   "source": [
    "This also converges to a fxied result at day 20"
   ]
  },
  {
   "cell_type": "code",
   "execution_count": 49,
   "id": "baa8a683",
   "metadata": {},
   "outputs": [],
   "source": [
    "import seaborn as sns"
   ]
  },
  {
   "cell_type": "code",
   "execution_count": 51,
   "id": "fdbb0dad",
   "metadata": {},
   "outputs": [
    {
     "data": {
      "text/plain": [
       "<Axes: xlabel='PRCP', ylabel='Density'>"
      ]
     },
     "execution_count": 51,
     "metadata": {},
     "output_type": "execute_result"
    },
    {
     "data": {
      "image/png": "[encoded data removed]",
      "text/plain": [
       "<Figure size 640x480 with 1 Axes>"
      ]
     },
     "metadata": {},
     "output_type": "display_data"
    }
   ],
   "source": [
    "sns.kdeplot(data=weather[weather['rain'] == 1], x='PRCP', fill=True)"
   ]
  },
  {
   "cell_type": "markdown",
   "id": "9b3f199b",
   "metadata": {},
   "source": [
    "One improvement is to increase the statespace so that instead of just one state, we are looking at transitions between pairs of states (representing 2 days). This should help provide more nuance to the prediction if we have knowlege of the last day and the day before before trying to determine the probability of a certain outcom today. For example, the modified state space would be [00,01,10,11]"
   ]
  },
  {
   "cell_type": "markdown",
   "id": "b953c2c4",
   "metadata": {},
   "source": [
    "4. Taxicab trajectories: Using the pickled taxicab data, we want to complete the exercise from class.\n",
    "\n",
    "- For the taxicab trajectory data, determine your state space and clean your sequences of cab rides.\n",
    "- Compute the transition matrix for the taxicab data between neighborhoods in Manhattan. Plot it in a heat map. What are the most common routes?\n",
    "- Explain why taxicabs are most likely order 1, and not 2 or more.\n",
    "- Starting at Hell's Kitchen, create a sequence of forecasts of where the cab is likely to be in 2, 3, 5, and 10 trips\n",
    "- Starting at any neighborhood, iterate your forecast until it is no longer changing very much. Where do cabs spend most of their time working in Manhattan?"
   ]
  },
  {
   "cell_type": "code",
   "execution_count": null,
   "id": "d8efe4f0",
   "metadata": {},
   "outputs": [],
   "source": []
  }
 ],
 "metadata": {
  "kernelspec": {
   "display_name": "ds6001",
   "language": "python",
   "name": "python3"
  },
  "language_info": {
   "codemirror_mode": {
    "name": "ipython",
    "version": 3
   },
   "file_extension": ".py",
   "mimetype": "text/x-python",
   "name": "python",
   "nbconvert_exporter": "python",
   "pygments_lexer": "ipython3",
   "version": "3.13.5"
  }
 },
 "nbformat": 4,
 "nbformat_minor": 5
}
