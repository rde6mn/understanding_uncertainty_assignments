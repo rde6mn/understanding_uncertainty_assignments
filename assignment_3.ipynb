{
 "cells": [
  {
   "cell_type": "markdown",
   "id": "7c6c1330",
   "metadata": {},
   "source": [
    "# Assignment 3\n",
    "### Due 9/21. Do four of five."
   ]
  },
  {
   "cell_type": "code",
   "execution_count": 1,
   "id": "67e43d80",
   "metadata": {},
   "outputs": [],
   "source": [
    "import pandas as pd\n",
    "import numpy as np"
   ]
  },
  {
   "cell_type": "markdown",
   "id": "c7761202",
   "metadata": {},
   "source": [
    "1. \n",
    "- Open the NHANES (or Ames prices or college completion datasets, if you prefer)\n",
    "- Find two categorical variables of interest (there are 198, and short descriptions are given in the `nhanes_meta_17_18.csv` file). Investigate their missing values (you don't have to focus on missing values for this analysis like we did with police use of force, but always be aware of how dirty the data are)\n",
    "- Compute a contingency table for your categorical $X$ and $Y$\n",
    "- Discuss any interesting patterns (or lack of one) that you observe"
   ]
  },
  {
   "cell_type": "code",
   "execution_count": 2,
   "id": "ad83ac8f",
   "metadata": {},
   "outputs": [],
   "source": [
    "df = pd.read_csv('data/ames_prices.csv')"
   ]
  },
  {
   "cell_type": "code",
   "execution_count": 3,
   "id": "d483d848",
   "metadata": {},
   "outputs": [
    {
     "data": {
      "text/html": [
       "<div>\n",
       "<style scoped>\n",
       "    .dataframe tbody tr th:only-of-type {\n",
       "        vertical-align: middle;\n",
       "    }\n",
       "\n",
       "    .dataframe tbody tr th {\n",
       "        vertical-align: top;\n",
       "    }\n",
       "\n",
       "    .dataframe thead th {\n",
       "        text-align: right;\n",
       "    }\n",
       "</style>\n",
       "<table border=\"1\" class=\"dataframe\">\n",
       "  <thead>\n",
       "    <tr style=\"text-align: right;\">\n",
       "      <th></th>\n",
       "      <th>Order</th>\n",
       "      <th>PID</th>\n",
       "      <th>area</th>\n",
       "      <th>price</th>\n",
       "      <th>MS.SubClass</th>\n",
       "      <th>MS.Zoning</th>\n",
       "      <th>Lot.Frontage</th>\n",
       "      <th>Lot.Area</th>\n",
       "      <th>Street</th>\n",
       "      <th>Alley</th>\n",
       "      <th>...</th>\n",
       "      <th>Screen.Porch</th>\n",
       "      <th>Pool.Area</th>\n",
       "      <th>Pool.QC</th>\n",
       "      <th>Fence</th>\n",
       "      <th>Misc.Feature</th>\n",
       "      <th>Misc.Val</th>\n",
       "      <th>Mo.Sold</th>\n",
       "      <th>Yr.Sold</th>\n",
       "      <th>Sale.Type</th>\n",
       "      <th>Sale.Condition</th>\n",
       "    </tr>\n",
       "  </thead>\n",
       "  <tbody>\n",
       "    <tr>\n",
       "      <th>0</th>\n",
       "      <td>1</td>\n",
       "      <td>526301100</td>\n",
       "      <td>1656</td>\n",
       "      <td>215000</td>\n",
       "      <td>20</td>\n",
       "      <td>RL</td>\n",
       "      <td>141.0</td>\n",
       "      <td>31770</td>\n",
       "      <td>Pave</td>\n",
       "      <td>NaN</td>\n",
       "      <td>...</td>\n",
       "      <td>0</td>\n",
       "      <td>0</td>\n",
       "      <td>NaN</td>\n",
       "      <td>NaN</td>\n",
       "      <td>NaN</td>\n",
       "      <td>0</td>\n",
       "      <td>5</td>\n",
       "      <td>2010</td>\n",
       "      <td>WD</td>\n",
       "      <td>Normal</td>\n",
       "    </tr>\n",
       "    <tr>\n",
       "      <th>1</th>\n",
       "      <td>2</td>\n",
       "      <td>526350040</td>\n",
       "      <td>896</td>\n",
       "      <td>105000</td>\n",
       "      <td>20</td>\n",
       "      <td>RH</td>\n",
       "      <td>80.0</td>\n",
       "      <td>11622</td>\n",
       "      <td>Pave</td>\n",
       "      <td>NaN</td>\n",
       "      <td>...</td>\n",
       "      <td>120</td>\n",
       "      <td>0</td>\n",
       "      <td>NaN</td>\n",
       "      <td>MnPrv</td>\n",
       "      <td>NaN</td>\n",
       "      <td>0</td>\n",
       "      <td>6</td>\n",
       "      <td>2010</td>\n",
       "      <td>WD</td>\n",
       "      <td>Normal</td>\n",
       "    </tr>\n",
       "    <tr>\n",
       "      <th>2</th>\n",
       "      <td>3</td>\n",
       "      <td>526351010</td>\n",
       "      <td>1329</td>\n",
       "      <td>172000</td>\n",
       "      <td>20</td>\n",
       "      <td>RL</td>\n",
       "      <td>81.0</td>\n",
       "      <td>14267</td>\n",
       "      <td>Pave</td>\n",
       "      <td>NaN</td>\n",
       "      <td>...</td>\n",
       "      <td>0</td>\n",
       "      <td>0</td>\n",
       "      <td>NaN</td>\n",
       "      <td>NaN</td>\n",
       "      <td>Gar2</td>\n",
       "      <td>12500</td>\n",
       "      <td>6</td>\n",
       "      <td>2010</td>\n",
       "      <td>WD</td>\n",
       "      <td>Normal</td>\n",
       "    </tr>\n",
       "  </tbody>\n",
       "</table>\n",
       "<p>3 rows × 82 columns</p>\n",
       "</div>"
      ],
      "text/plain": [
       "   Order        PID  area   price  MS.SubClass MS.Zoning  Lot.Frontage  \\\n",
       "0      1  526301100  1656  215000           20        RL         141.0   \n",
       "1      2  526350040   896  105000           20        RH          80.0   \n",
       "2      3  526351010  1329  172000           20        RL          81.0   \n",
       "\n",
       "   Lot.Area Street Alley  ... Screen.Porch Pool.Area Pool.QC  Fence  \\\n",
       "0     31770   Pave   NaN  ...            0         0     NaN    NaN   \n",
       "1     11622   Pave   NaN  ...          120         0     NaN  MnPrv   \n",
       "2     14267   Pave   NaN  ...            0         0     NaN    NaN   \n",
       "\n",
       "  Misc.Feature Misc.Val Mo.Sold Yr.Sold Sale.Type Sale.Condition  \n",
       "0          NaN        0       5    2010       WD          Normal  \n",
       "1          NaN        0       6    2010       WD          Normal  \n",
       "2         Gar2    12500       6    2010       WD          Normal  \n",
       "\n",
       "[3 rows x 82 columns]"
      ]
     },
     "execution_count": 3,
     "metadata": {},
     "output_type": "execute_result"
    }
   ],
   "source": [
    "df.head(3)"
   ]
  },
  {
   "cell_type": "markdown",
   "id": "f29b1713",
   "metadata": {},
   "source": [
    "Variables: Street and Fence"
   ]
  },
  {
   "cell_type": "code",
   "execution_count": null,
   "id": "7fe29e2c",
   "metadata": {},
   "outputs": [
    {
     "data": {
      "text/plain": [
       "street_na\n",
       "False    2930\n",
       "Name: count, dtype: int64"
      ]
     },
     "execution_count": 5,
     "metadata": {},
     "output_type": "execute_result"
    }
   ],
   "source": [
    "df['street_na'] = df['Street'].isna()\n",
    "df['street_na'].value_counts()"
   ]
  },
  {
   "cell_type": "markdown",
   "id": "03f2a62d",
   "metadata": {},
   "source": [
    "all vals filled for Street"
   ]
  },
  {
   "cell_type": "code",
   "execution_count": null,
   "id": "35e40251",
   "metadata": {},
   "outputs": [
    {
     "data": {
      "text/plain": [
       "fence_na\n",
       "True     2358\n",
       "False     572\n",
       "Name: count, dtype: int64"
      ]
     },
     "execution_count": 7,
     "metadata": {},
     "output_type": "execute_result"
    }
   ],
   "source": [
    "df['fence_na'] = df['Fence'].isna()\n",
    "df['fence_na'].value_counts()"
   ]
  },
  {
   "cell_type": "markdown",
   "id": "a8413e2b",
   "metadata": {},
   "source": [
    "Fence is missing a good proportion of values"
   ]
  },
  {
   "cell_type": "code",
   "execution_count": 8,
   "id": "8e5e40d2",
   "metadata": {},
   "outputs": [
    {
     "data": {
      "text/html": [
       "<div>\n",
       "<style scoped>\n",
       "    .dataframe tbody tr th:only-of-type {\n",
       "        vertical-align: middle;\n",
       "    }\n",
       "\n",
       "    .dataframe tbody tr th {\n",
       "        vertical-align: top;\n",
       "    }\n",
       "\n",
       "    .dataframe thead th {\n",
       "        text-align: right;\n",
       "    }\n",
       "</style>\n",
       "<table border=\"1\" class=\"dataframe\">\n",
       "  <thead>\n",
       "    <tr style=\"text-align: right;\">\n",
       "      <th>Street</th>\n",
       "      <th>Grvl</th>\n",
       "      <th>Pave</th>\n",
       "    </tr>\n",
       "    <tr>\n",
       "      <th>fence_na</th>\n",
       "      <th></th>\n",
       "      <th></th>\n",
       "    </tr>\n",
       "  </thead>\n",
       "  <tbody>\n",
       "    <tr>\n",
       "      <th>False</th>\n",
       "      <td>1</td>\n",
       "      <td>571</td>\n",
       "    </tr>\n",
       "    <tr>\n",
       "      <th>True</th>\n",
       "      <td>11</td>\n",
       "      <td>2347</td>\n",
       "    </tr>\n",
       "  </tbody>\n",
       "</table>\n",
       "</div>"
      ],
      "text/plain": [
       "Street    Grvl  Pave\n",
       "fence_na            \n",
       "False        1   571\n",
       "True        11  2347"
      ]
     },
     "execution_count": 8,
     "metadata": {},
     "output_type": "execute_result"
    }
   ],
   "source": [
    "pd.crosstab(df['fence_na'], df['Street'])"
   ]
  },
  {
   "cell_type": "markdown",
   "id": "ab30c572",
   "metadata": {},
   "source": [
    "All records have street data, so there aren't any interesting patterns or findings related to its missing data. All but one records with grvl streets are missing data for fences, but proportionatley, grvl streets are much less less common than Pave streets."
   ]
  },
  {
   "cell_type": "markdown",
   "id": "6cef48e5",
   "metadata": {},
   "source": [
    "2. \n",
    "- Open the NHANES dataset\n",
    "- Find a categorical and numeric variable of interest (there are 198, and short descriptions are given in the `nhanes_meta_17_18.csv` file). Investigate their missing values (you don't have to focus on missing values for this analysis, but always be aware of them)\n",
    "- Make descriptive tables and grouped kernel density plots to represent the variation in your numeric $Y$ conditional on your categorical $X$\n",
    "- Discuss any interesting patterns (or lack of one) that you observe"
   ]
  },
  {
   "cell_type": "code",
   "execution_count": 11,
   "id": "7b151a91",
   "metadata": {},
   "outputs": [
    {
     "name": "stderr",
     "output_type": "stream",
     "text": [
      "C:\\Users\\school\\AppData\\Local\\Temp\\ipykernel_48752\\4123972769.py:1: DtypeWarning: Columns (142) have mixed types. Specify dtype option on import or set low_memory=False.\n",
      "  nhanes = pd.read_csv('data/nhanes_data_17_18.csv')\n"
     ]
    }
   ],
   "source": [
    "nhanes = pd.read_csv('data/nhanes_data_17_18.csv')"
   ]
  },
  {
   "cell_type": "code",
   "execution_count": 12,
   "id": "1caee156",
   "metadata": {},
   "outputs": [
    {
     "data": {
      "text/html": [
       "<div>\n",
       "<style scoped>\n",
       "    .dataframe tbody tr th:only-of-type {\n",
       "        vertical-align: middle;\n",
       "    }\n",
       "\n",
       "    .dataframe tbody tr th {\n",
       "        vertical-align: top;\n",
       "    }\n",
       "\n",
       "    .dataframe thead th {\n",
       "        text-align: right;\n",
       "    }\n",
       "</style>\n",
       "<table border=\"1\" class=\"dataframe\">\n",
       "  <thead>\n",
       "    <tr style=\"text-align: right;\">\n",
       "      <th></th>\n",
       "      <th>SEQN</th>\n",
       "      <th>GeneralHealthCondition</th>\n",
       "      <th>EverBreastfedOrFedBreastmilk</th>\n",
       "      <th>AgeStoppedBreastfeedingdays</th>\n",
       "      <th>AgeFirstFedFormuladays</th>\n",
       "      <th>AgeStoppedReceivingFormuladays</th>\n",
       "      <th>AgeStartedOtherFoodbeverage</th>\n",
       "      <th>AgeFirstFedMilkdays</th>\n",
       "      <th>TypeOfMilkFirstFedWholeMilk</th>\n",
       "      <th>TypeOfMilkFirstFed2Milk</th>\n",
       "      <th>...</th>\n",
       "      <th>DaysSmokedCigsDuringPast30Days</th>\n",
       "      <th>AvgCigarettesdayDuringPast30Days</th>\n",
       "      <th>TriedToQuitSmoking</th>\n",
       "      <th>TimesStoppedSmokingCigarettes</th>\n",
       "      <th>HowLongWereYouAbleToStopSmoking</th>\n",
       "      <th>UnitOfMeasureDayweekmonthyear_2_SMQ</th>\n",
       "      <th>CurrentSelfreportedHeightInches</th>\n",
       "      <th>CurrentSelfreportedWeightPounds</th>\n",
       "      <th>TriedToLoseWeightInPastYear</th>\n",
       "      <th>TimesLost10LbsOrMoreToLoseWeight</th>\n",
       "    </tr>\n",
       "  </thead>\n",
       "  <tbody>\n",
       "    <tr>\n",
       "      <th>0</th>\n",
       "      <td>93703.0</td>\n",
       "      <td>NaN</td>\n",
       "      <td>1.0</td>\n",
       "      <td>273.0</td>\n",
       "      <td>1.0</td>\n",
       "      <td>365.0</td>\n",
       "      <td>152.0</td>\n",
       "      <td>365.0</td>\n",
       "      <td>Whole or regular milk</td>\n",
       "      <td>NaN</td>\n",
       "      <td>...</td>\n",
       "      <td>NaN</td>\n",
       "      <td>NaN</td>\n",
       "      <td>NaN</td>\n",
       "      <td>NaN</td>\n",
       "      <td>NaN</td>\n",
       "      <td>NaN</td>\n",
       "      <td>NaN</td>\n",
       "      <td>NaN</td>\n",
       "      <td>NaN</td>\n",
       "      <td>NaN</td>\n",
       "    </tr>\n",
       "    <tr>\n",
       "      <th>1</th>\n",
       "      <td>93704.0</td>\n",
       "      <td>NaN</td>\n",
       "      <td>1.0</td>\n",
       "      <td>60.0</td>\n",
       "      <td>3.0</td>\n",
       "      <td>365.0</td>\n",
       "      <td>126.0</td>\n",
       "      <td>365.0</td>\n",
       "      <td>Whole or regular milk</td>\n",
       "      <td>NaN</td>\n",
       "      <td>...</td>\n",
       "      <td>NaN</td>\n",
       "      <td>NaN</td>\n",
       "      <td>NaN</td>\n",
       "      <td>NaN</td>\n",
       "      <td>NaN</td>\n",
       "      <td>NaN</td>\n",
       "      <td>NaN</td>\n",
       "      <td>NaN</td>\n",
       "      <td>NaN</td>\n",
       "      <td>NaN</td>\n",
       "    </tr>\n",
       "    <tr>\n",
       "      <th>2</th>\n",
       "      <td>93705.0</td>\n",
       "      <td>Good</td>\n",
       "      <td>NaN</td>\n",
       "      <td>NaN</td>\n",
       "      <td>NaN</td>\n",
       "      <td>NaN</td>\n",
       "      <td>NaN</td>\n",
       "      <td>NaN</td>\n",
       "      <td>NaN</td>\n",
       "      <td>NaN</td>\n",
       "      <td>...</td>\n",
       "      <td>NaN</td>\n",
       "      <td>NaN</td>\n",
       "      <td>NaN</td>\n",
       "      <td>NaN</td>\n",
       "      <td>NaN</td>\n",
       "      <td>NaN</td>\n",
       "      <td>63.0</td>\n",
       "      <td>165.0</td>\n",
       "      <td>0.0</td>\n",
       "      <td>11 times or more</td>\n",
       "    </tr>\n",
       "  </tbody>\n",
       "</table>\n",
       "<p>3 rows × 198 columns</p>\n",
       "</div>"
      ],
      "text/plain": [
       "      SEQN GeneralHealthCondition  EverBreastfedOrFedBreastmilk  \\\n",
       "0  93703.0                    NaN                           1.0   \n",
       "1  93704.0                    NaN                           1.0   \n",
       "2  93705.0                   Good                           NaN   \n",
       "\n",
       "   AgeStoppedBreastfeedingdays  AgeFirstFedFormuladays  \\\n",
       "0                        273.0                     1.0   \n",
       "1                         60.0                     3.0   \n",
       "2                          NaN                     NaN   \n",
       "\n",
       "   AgeStoppedReceivingFormuladays  AgeStartedOtherFoodbeverage  \\\n",
       "0                           365.0                        152.0   \n",
       "1                           365.0                        126.0   \n",
       "2                             NaN                          NaN   \n",
       "\n",
       "   AgeFirstFedMilkdays TypeOfMilkFirstFedWholeMilk  TypeOfMilkFirstFed2Milk  \\\n",
       "0                365.0       Whole or regular milk                      NaN   \n",
       "1                365.0       Whole or regular milk                      NaN   \n",
       "2                  NaN                         NaN                      NaN   \n",
       "\n",
       "   ...  DaysSmokedCigsDuringPast30Days  AvgCigarettesdayDuringPast30Days  \\\n",
       "0  ...                             NaN                               NaN   \n",
       "1  ...                             NaN                               NaN   \n",
       "2  ...                             NaN                               NaN   \n",
       "\n",
       "   TriedToQuitSmoking  TimesStoppedSmokingCigarettes  \\\n",
       "0                 NaN                            NaN   \n",
       "1                 NaN                            NaN   \n",
       "2                 NaN                            NaN   \n",
       "\n",
       "  HowLongWereYouAbleToStopSmoking UnitOfMeasureDayweekmonthyear_2_SMQ  \\\n",
       "0                             NaN                                 NaN   \n",
       "1                             NaN                                 NaN   \n",
       "2                             NaN                                 NaN   \n",
       "\n",
       "  CurrentSelfreportedHeightInches  CurrentSelfreportedWeightPounds  \\\n",
       "0                             NaN                              NaN   \n",
       "1                             NaN                              NaN   \n",
       "2                            63.0                            165.0   \n",
       "\n",
       "   TriedToLoseWeightInPastYear  TimesLost10LbsOrMoreToLoseWeight  \n",
       "0                          NaN                               NaN  \n",
       "1                          NaN                               NaN  \n",
       "2                          0.0                  11 times or more  \n",
       "\n",
       "[3 rows x 198 columns]"
      ]
     },
     "execution_count": 12,
     "metadata": {},
     "output_type": "execute_result"
    }
   ],
   "source": [
    "nhanes.head(3)"
   ]
  },
  {
   "cell_type": "markdown",
   "id": "691fd01f",
   "metadata": {},
   "source": [
    "Numeric: AgeStoppedBreastfeedingdays\n",
    "\n",
    "\n",
    "Categorical: GeneralHealthCondition"
   ]
  },
  {
   "cell_type": "code",
   "execution_count": null,
   "id": "33ecd752",
   "metadata": {},
   "outputs": [
    {
     "data": {
      "text/plain": [
       "age_stopped_na\n",
       "True     7504\n",
       "False     862\n",
       "Name: count, dtype: int64"
      ]
     },
     "execution_count": 14,
     "metadata": {},
     "output_type": "execute_result"
    }
   ],
   "source": [
    "nhanes['age_stopped_na'] = nhanes['AgeStoppedBreastfeedingdays'].isna()\n",
    "nhanes['age_stopped_na'].value_counts()"
   ]
  },
  {
   "cell_type": "code",
   "execution_count": 16,
   "id": "4d41de9f",
   "metadata": {},
   "outputs": [
    {
     "data": {
      "text/plain": [
       "general_health_na\n",
       "False    5964\n",
       "True     2402\n",
       "Name: count, dtype: int64"
      ]
     },
     "execution_count": 16,
     "metadata": {},
     "output_type": "execute_result"
    }
   ],
   "source": [
    "nhanes['general_health_na'] = nhanes['GeneralHealthCondition'].isna()\n",
    "nhanes['general_health_na'].value_counts()"
   ]
  },
  {
   "cell_type": "code",
   "execution_count": 18,
   "id": "6d6cb523",
   "metadata": {},
   "outputs": [
    {
     "data": {
      "text/html": [
       "<div>\n",
       "<style scoped>\n",
       "    .dataframe tbody tr th:only-of-type {\n",
       "        vertical-align: middle;\n",
       "    }\n",
       "\n",
       "    .dataframe tbody tr th {\n",
       "        vertical-align: top;\n",
       "    }\n",
       "\n",
       "    .dataframe thead th {\n",
       "        text-align: right;\n",
       "    }\n",
       "</style>\n",
       "<table border=\"1\" class=\"dataframe\">\n",
       "  <thead>\n",
       "    <tr style=\"text-align: right;\">\n",
       "      <th>general_health_na</th>\n",
       "      <th>False</th>\n",
       "      <th>True</th>\n",
       "    </tr>\n",
       "    <tr>\n",
       "      <th>age_stopped_na</th>\n",
       "      <th></th>\n",
       "      <th></th>\n",
       "    </tr>\n",
       "  </thead>\n",
       "  <tbody>\n",
       "    <tr>\n",
       "      <th>False</th>\n",
       "      <td>0</td>\n",
       "      <td>862</td>\n",
       "    </tr>\n",
       "    <tr>\n",
       "      <th>True</th>\n",
       "      <td>5964</td>\n",
       "      <td>1540</td>\n",
       "    </tr>\n",
       "  </tbody>\n",
       "</table>\n",
       "</div>"
      ],
      "text/plain": [
       "general_health_na  False  True \n",
       "age_stopped_na                 \n",
       "False                  0    862\n",
       "True                5964   1540"
      ]
     },
     "execution_count": 18,
     "metadata": {},
     "output_type": "execute_result"
    }
   ],
   "source": [
    "pd.crosstab(nhanes['age_stopped_na'], nhanes['general_health_na'])"
   ]
  },
  {
   "cell_type": "markdown",
   "id": "dc9be9b5",
   "metadata": {},
   "source": [
    "There are no rows where both columns are present at once, so I will use a different numeric value for the next questions (CurrentSelfreportedWeightPounds)"
   ]
  },
  {
   "cell_type": "code",
   "execution_count": 22,
   "id": "19851348",
   "metadata": {},
   "outputs": [],
   "source": [
    "import seaborn as sns\n",
    "import matplotlib.pyplot as plt"
   ]
  },
  {
   "cell_type": "code",
   "execution_count": 26,
   "id": "6e2afef7",
   "metadata": {},
   "outputs": [],
   "source": [
    "nhanes[\"log_weight\"] = np.log(nhanes[\"CurrentSelfreportedWeightPounds\"])"
   ]
  },
  {
   "cell_type": "code",
   "execution_count": 27,
   "id": "79fd66b7",
   "metadata": {},
   "outputs": [
    {
     "data": {
      "image/png": "[encoded data removed]",
      "text/plain": [
       "<Figure size 640x480 with 1 Axes>"
      ]
     },
     "metadata": {},
     "output_type": "display_data"
    }
   ],
   "source": [
    "sns.kdeplot( data=nhanes, x='log_weight', hue='GeneralHealthCondition', common_norm=False ).set(title='KDE')\n",
    "plt.show()"
   ]
  },
  {
   "cell_type": "code",
   "execution_count": 28,
   "id": "9f11ba9f",
   "metadata": {},
   "outputs": [
    {
     "data": {
      "text/html": [
       "<div>\n",
       "<style scoped>\n",
       "    .dataframe tbody tr th:only-of-type {\n",
       "        vertical-align: middle;\n",
       "    }\n",
       "\n",
       "    .dataframe tbody tr th {\n",
       "        vertical-align: top;\n",
       "    }\n",
       "\n",
       "    .dataframe thead tr th {\n",
       "        text-align: left;\n",
       "    }\n",
       "\n",
       "    .dataframe thead tr:last-of-type th {\n",
       "        text-align: right;\n",
       "    }\n",
       "</style>\n",
       "<table border=\"1\" class=\"dataframe\">\n",
       "  <thead>\n",
       "    <tr>\n",
       "      <th></th>\n",
       "      <th colspan=\"8\" halign=\"left\">CurrentSelfreportedWeightPounds</th>\n",
       "    </tr>\n",
       "    <tr>\n",
       "      <th></th>\n",
       "      <th>count</th>\n",
       "      <th>mean</th>\n",
       "      <th>std</th>\n",
       "      <th>min</th>\n",
       "      <th>25%</th>\n",
       "      <th>50%</th>\n",
       "      <th>75%</th>\n",
       "      <th>max</th>\n",
       "    </tr>\n",
       "    <tr>\n",
       "      <th>GeneralHealthCondition</th>\n",
       "      <th></th>\n",
       "      <th></th>\n",
       "      <th></th>\n",
       "      <th></th>\n",
       "      <th></th>\n",
       "      <th></th>\n",
       "      <th></th>\n",
       "      <th></th>\n",
       "    </tr>\n",
       "  </thead>\n",
       "  <tbody>\n",
       "    <tr>\n",
       "      <th>Excellent</th>\n",
       "      <td>500.0</td>\n",
       "      <td>315.410000</td>\n",
       "      <td>1204.831420</td>\n",
       "      <td>90.0</td>\n",
       "      <td>135.0</td>\n",
       "      <td>158.0</td>\n",
       "      <td>185.0</td>\n",
       "      <td>9999.0</td>\n",
       "    </tr>\n",
       "    <tr>\n",
       "      <th>Fair or</th>\n",
       "      <td>1134.0</td>\n",
       "      <td>483.822751</td>\n",
       "      <td>1664.206135</td>\n",
       "      <td>86.0</td>\n",
       "      <td>155.0</td>\n",
       "      <td>185.0</td>\n",
       "      <td>225.0</td>\n",
       "      <td>9999.0</td>\n",
       "    </tr>\n",
       "    <tr>\n",
       "      <th>Good</th>\n",
       "      <td>2262.0</td>\n",
       "      <td>334.106101</td>\n",
       "      <td>1202.150398</td>\n",
       "      <td>72.0</td>\n",
       "      <td>148.0</td>\n",
       "      <td>175.0</td>\n",
       "      <td>210.0</td>\n",
       "      <td>9999.0</td>\n",
       "    </tr>\n",
       "    <tr>\n",
       "      <th>Poor?</th>\n",
       "      <td>169.0</td>\n",
       "      <td>321.798817</td>\n",
       "      <td>1064.212601</td>\n",
       "      <td>95.0</td>\n",
       "      <td>165.0</td>\n",
       "      <td>196.0</td>\n",
       "      <td>240.0</td>\n",
       "      <td>9999.0</td>\n",
       "    </tr>\n",
       "    <tr>\n",
       "      <th>Very good</th>\n",
       "      <td>1352.0</td>\n",
       "      <td>238.725592</td>\n",
       "      <td>809.140090</td>\n",
       "      <td>85.0</td>\n",
       "      <td>140.0</td>\n",
       "      <td>165.0</td>\n",
       "      <td>192.0</td>\n",
       "      <td>9999.0</td>\n",
       "    </tr>\n",
       "  </tbody>\n",
       "</table>\n",
       "</div>"
      ],
      "text/plain": [
       "                       CurrentSelfreportedWeightPounds              \\\n",
       "                                                 count        mean   \n",
       "GeneralHealthCondition                                               \n",
       "Excellent                                        500.0  315.410000   \n",
       "Fair or                                         1134.0  483.822751   \n",
       "Good                                            2262.0  334.106101   \n",
       "Poor?                                            169.0  321.798817   \n",
       "Very good                                       1352.0  238.725592   \n",
       "\n",
       "                                                                        \n",
       "                                std   min    25%    50%    75%     max  \n",
       "GeneralHealthCondition                                                  \n",
       "Excellent               1204.831420  90.0  135.0  158.0  185.0  9999.0  \n",
       "Fair or                 1664.206135  86.0  155.0  185.0  225.0  9999.0  \n",
       "Good                    1202.150398  72.0  148.0  175.0  210.0  9999.0  \n",
       "Poor?                   1064.212601  95.0  165.0  196.0  240.0  9999.0  \n",
       "Very good                809.140090  85.0  140.0  165.0  192.0  9999.0  "
      ]
     },
     "execution_count": 28,
     "metadata": {},
     "output_type": "execute_result"
    }
   ],
   "source": [
    "nhanes.loc[:,['CurrentSelfreportedWeightPounds', 'GeneralHealthCondition']].groupby('GeneralHealthCondition').describe()\n"
   ]
  },
  {
   "cell_type": "markdown",
   "id": "b456d2db",
   "metadata": {},
   "source": [
    "Variation between each condition in the kde is in a very small range. The peak value at poor seems to be the right-most out of all the conditions, and the excellent peak appears to be the leftmost. The value where most individuals are labelled as excellent is lower than the value where other indivivduals are categorized for the other categories, and the opposite is true for those labelled as 'Poor?'. The means don't quite support the same narrative, as excellent has the second lowest mean and poor has the third highest mean. Less people are labelled at the extreme ends (Excellent/Poor), and more people are labelled within the middle three categories (Fair, Good, and Very Good)."
   ]
  },
  {
   "cell_type": "code",
   "execution_count": null,
   "id": "34e59632",
   "metadata": {},
   "outputs": [],
   "source": []
  },
  {
   "cell_type": "code",
   "execution_count": null,
   "metadata": {},
   "outputs": [],
   "source": []
  },
  {
   "cell_type": "markdown",
   "id": "4952e789",
   "metadata": {},
   "source": [
    "3. \n",
    "We showed that the mean and median could be discovered by minimizing various kinds of loss functions; this is what machine learning is. To make a prediction $\\hat{y}(z)$ of $Y$ when $X=z$, minimize the mean squared error:\n",
    "$$\n",
    "MSE(\\hat{y}(z)) = \\dfrac{1}{N} \\sum_{i=1}^N \\left\\lbrace y_i - \\hat{y}(z) \\right\\rbrace^2 \\frac{1}{h}k\\left(\\frac{z-x_i}{h}\\right)\n",
    "$$\n",
    "Show that the solution to this problem is the LCLS/Naradaya-Watson estimator."
   ]
  },
  {
   "cell_type": "markdown",
   "id": "98884d76",
   "metadata": {},
   "source": [
    "4. \n",
    "- Write a class or set of functions that implement the LCLS/Naradaya-Watson estimator, using the Silverman plug-in estimate for the conditioning variable $X$ as the bandwidth.\n",
    "- From one of the course data sets, find two numeric variables of interest, analyze their relationship with the the LCLS/Naradaya-Watson estimator, and discuss your results."
   ]
  },
  {
   "cell_type": "markdown",
   "id": "0534c110",
   "metadata": {},
   "source": [
    "5. \n",
    "- In any of the available data sets, investigate the relationships between pairs of variables $(X,Y)$ with a scatterplot and CEF (for example, price on area)\n",
    "- Is this relationship plausibly causal, or are there missing variables that might explain at least part of the relationship between your variables? These can be \"conceptual\" rather than \"practical\"; for example, 'talent' or 'grit' probably explain education outcomes, but are almost impossible to measure. We are asking whether there are hypothetical **threats to causal identification** of the effect of $X$ on $Y$.\n",
    "- Explain how, regardless of the threat to causal identification, you can still use your model to predict $Y$ given $X$, as long as you don't intervene in the system to control the outcome"
   ]
  }
 ],
 "metadata": {
  "kernelspec": {
   "display_name": "ds6001",
   "language": "python",
   "name": "python3"
  },
  "language_info": {
   "codemirror_mode": {
    "name": "ipython",
    "version": 3
   },
   "file_extension": ".py",
   "mimetype": "text/x-python",
   "name": "python",
   "nbconvert_exporter": "python",
   "pygments_lexer": "ipython3",
   "version": "3.13.5"
  }
 },
 "nbformat": 4,
 "nbformat_minor": 5
}
